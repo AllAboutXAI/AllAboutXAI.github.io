{
  "cells": [
    {
      "cell_type": "markdown",
      "source": [
        "**References**\n",
        "\n",
        "[1] Dataset from AI Competition for Predicting Security Risk Level through Log Analysis, https://dacon.io/competitions/official/235717/data<br>\n",
        "[2] Baseline from AI Competition for Predicting Security Risk Level through Log Analysis, https://dacon.io/competitions/official/235717/codeshare/2536?page=1&dtype=recent<br>\n",
        "[3] Removing redundant log records, https://github.com/Kitsunetic/log-analytics"
      ],
      "metadata": {
        "id": "wa87MiqjQ2Qq"
      }
    },
    {
      "cell_type": "markdown",
      "source": [
        "**Mount my drive and change the path to the directory in which has the data**\n",
        "* This is necessary only when you use google drive"
      ],
      "metadata": {
        "id": "t9K9NI7eQH9o"
      }
    },
    {
      "cell_type": "code",
      "source": [
        "import os, shutil\n",
        "from google.colab import drive\n",
        "drive.mount(\"/content/gdrive\")\n",
        "\n",
        "# usually \"gdrive/My Drive/\" is the location where you will start \n",
        "# when you connect to your owngoogle drive\n",
        "data_dir = \"gdrive/My Drive/Test/DACON_Log\" \n",
        "os.chdir(data_dir)"
      ],
      "metadata": {
        "colab": {
          "base_uri": "https://localhost:8080/"
        },
        "id": "vSFk_HhpQM10",
        "outputId": "d0156317-32fe-451f-9ed6-0cb4df458c98"
      },
      "execution_count": null,
      "outputs": [
        {
          "output_type": "stream",
          "name": "stdout",
          "text": [
            "Mounted at /content/gdrive\n"
          ]
        }
      ]
    },
    {
      "cell_type": "code",
      "execution_count": null,
      "metadata": {
        "id": "86q1rpxEPr8T"
      },
      "outputs": [],
      "source": [
        "import numpy as np\n",
        "import pandas as pd\n",
        "import tensorflow as tf"
      ]
    },
    {
      "cell_type": "markdown",
      "metadata": {
        "id": "vGo_brcnPr8V"
      },
      "source": [
        "**Load data and remove redudant log records**"
      ]
    },
    {
      "cell_type": "code",
      "execution_count": null,
      "metadata": {
        "id": "lMOjo2A6Pr8V"
      },
      "outputs": [],
      "source": [
        "all_data = pd.read_csv('train.csv')\n",
        "\n",
        "db = {}\n",
        "for i, (level, full_log) in enumerate(zip(all_data.level, all_data.full_log)):\n",
        "    text = full_log\n",
        "    if text not in db:\n",
        "        db[text] = {}\n",
        "    if level not in db[text]:\n",
        "        db[text][level] = {\"cnt\": 0, \"list\": []}\n",
        "    db[text][level][\"cnt\"] += 1\n",
        "    db[text][level][\"list\"].append(i)\n",
        "keys = list(db.keys())\n",
        "\n",
        "index_list = []\n",
        "for key in keys:\n",
        "    d = db[key]\n",
        "    if len(list(d.keys())) > 1:\n",
        "        for k in d.keys():\n",
        "          for j in d[k][\"list\"]:\n",
        "            index_list.append(j)\n",
        "all_data.drop(index_list, inplace=True)\n",
        "\n",
        "# Remove all log records when they have exactly same contents but have different levels\n",
        "# because we cannot know which one is correct\n",
        "# We have confirmed that the log records of levels 2, 4, and 6 that have few instances do not have such a case"
      ]
    },
    {
      "cell_type": "markdown",
      "source": [
        "**Split train and test data**"
      ],
      "metadata": {
        "id": "yPumpAuBX0UV"
      }
    },
    {
      "cell_type": "code",
      "source": [
        "portion = 0.5\n",
        "\n",
        "data_list = []\n",
        "data_count = []\n",
        "for level in range(7):\n",
        "    data = all_data[all_data['level'] == level]\n",
        "    data_list.append(data)\n",
        "    count = int(data.shape[0] *  portion)\n",
        "    data_count.append(count)\n",
        "\n",
        "train = pd.concat([data_list[0][:data_count[0]],\n",
        "                  data_list[1][:data_count[1]],\n",
        "                  data_list[2][:data_count[2]],\n",
        "                  data_list[3][:data_count[3]],\n",
        "                  data_list[4][:data_count[4]],\n",
        "                  data_list[5][:data_count[5]],\n",
        "                  data_list[6][:data_count[6]]])\n",
        "\n",
        "test = pd.concat([data_list[0][data_count[0]:],\n",
        "                 data_list[1][data_count[1]:],\n",
        "                 data_list[2][data_count[2]:],\n",
        "                 data_list[3][data_count[3]:],\n",
        "                 data_list[4][data_count[4]:],\n",
        "                 data_list[5][data_count[5]:],\n",
        "                 data_list[6][data_count[6]:]])\n",
        "\n",
        "train= train.sample(frac=1)  # shuffle rows\n",
        "train = train.sample(frac=1).reset_index(drop=True)  # index reset\n",
        "\n",
        "test= test.sample(frac=1)  # shuffle rows\n",
        "test = test.sample(frac=1).reset_index(drop=True)  # index reset"
      ],
      "metadata": {
        "id": "VZGY_GgAX6dI"
      },
      "execution_count": null,
      "outputs": []
    },
    {
      "cell_type": "markdown",
      "metadata": {
        "id": "59Y-d5ZWPr8Z"
      },
      "source": [
        "**Data preprocessing**"
      ]
    },
    {
      "cell_type": "code",
      "source": [
        "# Remove all uninformative parts\n",
        "# BE CAREFUL that the order of the statements below matters\n",
        "\n",
        "remove_uninformative_tokens = True\n",
        "if remove_uninformative_tokens != True:\n",
        "    # Regular Expression for Date & Time #1: 2021-02-19T21:08:00 (ISO 8601 Dates and Times)\n",
        "    train['full_log']=train['full_log'].str.replace(r'(?:\\d{4})-(?:\\d{2})-(?:\\d{2})T(?:\\d{2}):(?:\\d{2}):(?:\\d{2}(?:\\.\\d*)?)(?:(?:[+-](?:\\d{2}):(?:\\d{2})|Z)?)', '<time>') #<1>\n",
        "    # Regular Expression for Date & Time #2: 0000-00-00 00:00:00\n",
        "    train['full_log']=train['full_log'].str.replace(r'(\\d{4})-(\\d{2})-(\\d{2}) (\\d{2}):(\\d{2}):(\\d{2})', '<time>')\n",
        "    # Regular Expression for Date & Time #3: Jan 1 00:00:00\n",
        "    train['full_log']=train['full_log'].str.replace(r'(\\b\\d{1,2}\\D{0,3})?\\b(?:Jan(?:uary)?|Feb(?:ruary)?|Mar(?:ch)?|Apr(?:il)?|May|Jun(?:e)?|Jul(?:y)?|Aug(?:ust)?|Sep(?:tember)?|Oct(?:ober)?|(Nov|Dec)(?:ember)?)\\D*(\\d{1,2}(st|nd|rd|th)?)?(([,.\\-\\/])\\D?)?((19[7-9]\\d|20\\d{2})|\\d{2})* (\\d{2}):(\\d{2}):(\\d{2})', '<time>')\n",
        "    # Regular Expression for IP\n",
        "    train['full_log']=train['full_log'].str.replace(r'(/|)([0-9]+\\.){3}[0-9]+(:[0-9]+|)(:|)', '<ip>')\n",
        "    # Regular Expression for a Combination of Alphanumeric and Special Characters\n",
        "    train['full_log']=train['full_log'].str.replace(r\"([A-Za-z]+[0-9]|[0-9]+[A-Za-z])[A-Za-z0-9]*[><?@+'`~^%&\\*\\[\\]\\{\\}.!#|\\\\\\\"$';,:;=/\\(\\),\\-\\w+]*\", '<val>')\n",
        "    # Regular Expression for the Value Part of Key=Value pair\n",
        "    train['full_log']=train['full_log'].str.replace(r'(?<==)([A-Za-z]+[0-9]|[0-9]+[A-Za-z])[A-Za-z0-9]*', '<val>')\n",
        "    # Regular Expression for Numbers\n",
        "    train['full_log']=train['full_log'].str.replace(r'[-+]?([0-9]*[.])?[0-9]+([eE][-+]?\\d+)?', '<num>')\n",
        "\n",
        "    # Regular Expression for Date & Time #1: 2021-02-19T21:08:00 (ISO 8601 Dates and Times)\n",
        "    test['full_log']=test['full_log'].str.replace(r'(?:\\d{4})-(?:\\d{2})-(?:\\d{2})T(?:\\d{2}):(?:\\d{2}):(?:\\d{2}(?:\\.\\d*)?)(?:(?:[+-](?:\\d{2}):(?:\\d{2})|Z)?)', '<time>') #<1>\n",
        "    # Regular Expression for Date & Time #2: 0000-00-00 00:00:00\n",
        "    test['full_log']=test['full_log'].str.replace(r'(\\d{4})-(\\d{2})-(\\d{2}) (\\d{2}):(\\d{2}):(\\d{2})', '<time>')\n",
        "    # Regular Expression for Date & Time #3: Jan 1 00:00:00\n",
        "    test['full_log']=test['full_log'].str.replace(r'(\\b\\d{1,2}\\D{0,3})?\\b(?:Jan(?:uary)?|Feb(?:ruary)?|Mar(?:ch)?|Apr(?:il)?|May|Jun(?:e)?|Jul(?:y)?|Aug(?:ust)?|Sep(?:tember)?|Oct(?:ober)?|(Nov|Dec)(?:ember)?)\\D*(\\d{1,2}(st|nd|rd|th)?)?(([,.\\-\\/])\\D?)?((19[7-9]\\d|20\\d{2})|\\d{2})* (\\d{2}):(\\d{2}):(\\d{2})', '<time>')\n",
        "    # Regular Expression for IP\n",
        "    test['full_log']=test['full_log'].str.replace(r'(/|)([0-9]+\\.){3}[0-9]+(:[0-9]+|)(:|)', '<ip>')\n",
        "    # Regular Expression for a Combination of Alphanumeric and Special Characters\n",
        "    test['full_log']=test['full_log'].str.replace(r\"([A-Za-z]+[0-9]|[0-9]+[A-Za-z])[A-Za-z0-9]*[><?@+'`~^%&\\*\\[\\]\\{\\}.!#|\\\\\\\"$';,:;=/\\(\\),\\-\\w+]*\", '<val>')\n",
        "    # Regular Expression for the Value Part of Key=Value pair\n",
        "    test['full_log']=test['full_log'].str.replace(r'(?<==)([A-Za-z]+[0-9]|[0-9]+[A-Za-z])[A-Za-z0-9]*', '<val>')\n",
        "    # Regular Expression for Numbers\n",
        "    test['full_log']=test['full_log'].str.replace(r'[-+]?([0-9]*[.])?[0-9]+([eE][-+]?\\d+)?', '<num>')\n",
        "else:\n",
        "    # Regular Expression for Date & Time #1: 2021-02-19T21:08:00 (ISO 8601 Dates and Times)\n",
        "    train['full_log']=train['full_log'].str.replace(r'(?:\\d{4})-(?:\\d{2})-(?:\\d{2})T(?:\\d{2}):(?:\\d{2}):(?:\\d{2}(?:\\.\\d*)?)(?:(?:[+-](?:\\d{2}):(?:\\d{2})|Z)?)', '') #<1>\n",
        "    # Regular Expression for Date & Time #2: 0000-00-00 00:00:00\n",
        "    train['full_log']=train['full_log'].str.replace(r'(\\d{4})-(\\d{2})-(\\d{2}) (\\d{2}):(\\d{2}):(\\d{2})', '')\n",
        "    # Regular Expression for Date & Time #3: Jan 1 00:00:00\n",
        "    train['full_log']=train['full_log'].str.replace(r'(\\b\\d{1,2}\\D{0,3})?\\b(?:Jan(?:uary)?|Feb(?:ruary)?|Mar(?:ch)?|Apr(?:il)?|May|Jun(?:e)?|Jul(?:y)?|Aug(?:ust)?|Sep(?:tember)?|Oct(?:ober)?|(Nov|Dec)(?:ember)?)\\D*(\\d{1,2}(st|nd|rd|th)?)?(([,.\\-\\/])\\D?)?((19[7-9]\\d|20\\d{2})|\\d{2})* (\\d{2}):(\\d{2}):(\\d{2})', '')\n",
        "    # Regular Expression for IP\n",
        "    train['full_log']=train['full_log'].str.replace(r'(/|)([0-9]+\\.){3}[0-9]+(:[0-9]+|)(:|)', '')\n",
        "    # Regular Expression for a Combination of Alphanumeric and Special Characters\n",
        "    train['full_log']=train['full_log'].str.replace(r\"([A-Za-z]+[0-9]|[0-9]+[A-Za-z])[A-Za-z0-9]*[><?@+'`~^%&\\*\\[\\]\\{\\}.!#|\\\\\\\"$';,:;=/\\(\\),\\-\\w+]*\", '')\n",
        "    # Regular Expression for the Value Part of Key=Value pair\n",
        "    train['full_log']=train['full_log'].str.replace(r'(?<==)([A-Za-z]+[0-9]|[0-9]+[A-Za-z])[A-Za-z0-9]*', '')\n",
        "    # Regular Expression for Numbers\n",
        "    train['full_log']=train['full_log'].str.replace(r'[-+]?([0-9]*[.])?[0-9]+([eE][-+]?\\d+)?', '')\n",
        "\n",
        "    # Regular Expression for Date & Time #1: 2021-02-19T21:08:00 (ISO 8601 Dates and Times)\n",
        "    test['full_log']=test['full_log'].str.replace(r'(?:\\d{4})-(?:\\d{2})-(?:\\d{2})T(?:\\d{2}):(?:\\d{2}):(?:\\d{2}(?:\\.\\d*)?)(?:(?:[+-](?:\\d{2}):(?:\\d{2})|Z)?)', '') #<1>\n",
        "    # Regular Expression for Date & Time #2: 0000-00-00 00:00:00\n",
        "    test['full_log']=test['full_log'].str.replace(r'(\\d{4})-(\\d{2})-(\\d{2}) (\\d{2}):(\\d{2}):(\\d{2})', '')\n",
        "    # Regular Expression for Date & Time #3: Jan 1 00:00:00\n",
        "    test['full_log']=test['full_log'].str.replace(r'(\\b\\d{1,2}\\D{0,3})?\\b(?:Jan(?:uary)?|Feb(?:ruary)?|Mar(?:ch)?|Apr(?:il)?|May|Jun(?:e)?|Jul(?:y)?|Aug(?:ust)?|Sep(?:tember)?|Oct(?:ober)?|(Nov|Dec)(?:ember)?)\\D*(\\d{1,2}(st|nd|rd|th)?)?(([,.\\-\\/])\\D?)?((19[7-9]\\d|20\\d{2})|\\d{2})* (\\d{2}):(\\d{2}):(\\d{2})', '')\n",
        "    # Regular Expression for IP\n",
        "    test['full_log']=test['full_log'].str.replace(r'(/|)([0-9]+\\.){3}[0-9]+(:[0-9]+|)(:|)', '')\n",
        "    # Regular Expression for a Combination of Alphanumeric and Special Characters\n",
        "    test['full_log']=test['full_log'].str.replace(r\"([A-Za-z]+[0-9]|[0-9]+[A-Za-z])[A-Za-z0-9]*[><?@+'`~^%&\\*\\[\\]\\{\\}.!#|\\\\\\\"$';,:;=/\\(\\),\\-\\w+]*\", '')\n",
        "    # Regular Expression for the Value Part of Key=Value pair\n",
        "    test['full_log']=test['full_log'].str.replace(r'(?<==)([A-Za-z]+[0-9]|[0-9]+[A-Za-z])[A-Za-z0-9]*', '')\n",
        "    # Regular Expression for Numbers\n",
        "    test['full_log']=test['full_log'].str.replace(r'[-+]?([0-9]*[.])?[0-9]+([eE][-+]?\\d+)?', '')\n"
      ],
      "metadata": {
        "colab": {
          "base_uri": "https://localhost:8080/"
        },
        "id": "ti8YsrwN6euk",
        "outputId": "777d2585-43b6-4460-e60d-41b1d4e9d6ea"
      },
      "execution_count": null,
      "outputs": [
        {
          "output_type": "stream",
          "name": "stderr",
          "text": [
            "/usr/local/lib/python3.7/dist-packages/ipykernel_launcher.py:37: FutureWarning: The default value of regex will change from True to False in a future version.\n",
            "/usr/local/lib/python3.7/dist-packages/ipykernel_launcher.py:39: FutureWarning: The default value of regex will change from True to False in a future version.\n",
            "/usr/local/lib/python3.7/dist-packages/ipykernel_launcher.py:41: FutureWarning: The default value of regex will change from True to False in a future version.\n",
            "/usr/local/lib/python3.7/dist-packages/ipykernel_launcher.py:43: FutureWarning: The default value of regex will change from True to False in a future version.\n",
            "/usr/local/lib/python3.7/dist-packages/ipykernel_launcher.py:45: FutureWarning: The default value of regex will change from True to False in a future version.\n",
            "/usr/local/lib/python3.7/dist-packages/ipykernel_launcher.py:47: FutureWarning: The default value of regex will change from True to False in a future version.\n",
            "/usr/local/lib/python3.7/dist-packages/ipykernel_launcher.py:49: FutureWarning: The default value of regex will change from True to False in a future version.\n",
            "/usr/local/lib/python3.7/dist-packages/ipykernel_launcher.py:52: FutureWarning: The default value of regex will change from True to False in a future version.\n",
            "/usr/local/lib/python3.7/dist-packages/ipykernel_launcher.py:54: FutureWarning: The default value of regex will change from True to False in a future version.\n",
            "/usr/local/lib/python3.7/dist-packages/ipykernel_launcher.py:56: FutureWarning: The default value of regex will change from True to False in a future version.\n",
            "/usr/local/lib/python3.7/dist-packages/ipykernel_launcher.py:58: FutureWarning: The default value of regex will change from True to False in a future version.\n",
            "/usr/local/lib/python3.7/dist-packages/ipykernel_launcher.py:60: FutureWarning: The default value of regex will change from True to False in a future version.\n",
            "/usr/local/lib/python3.7/dist-packages/ipykernel_launcher.py:62: FutureWarning: The default value of regex will change from True to False in a future version.\n",
            "/usr/local/lib/python3.7/dist-packages/ipykernel_launcher.py:64: FutureWarning: The default value of regex will change from True to False in a future version.\n"
          ]
        }
      ]
    },
    {
      "cell_type": "code",
      "execution_count": null,
      "metadata": {
        "id": "mEAyyOtKPr8a"
      },
      "outputs": [],
      "source": [
        "train_text=list(train['full_log'])\n",
        "train_level=np.array(train['level'])\n",
        "\n",
        "test_text=list(test['full_log'])\n",
        "test_level=np.array(test['level'])"
      ]
    },
    {
      "cell_type": "code",
      "execution_count": null,
      "metadata": {
        "id": "AKh6v9ucPr8a"
      },
      "outputs": [],
      "source": [
        "# Do vertorization with CountVectorizer\n",
        "from sklearn.feature_extraction.text import CountVectorizer\n",
        "\n",
        "# Unigram\n",
        "#vectorizer=CountVectorizer(analyzer=\"word\", max_features=5000)\n",
        "#vectorizer=CountVectorizer(analyzer=\"word\", max_features=500)\n",
        "vectorizer=CountVectorizer(analyzer=\"word\", max_features=200)\n",
        "\n",
        "# Bigram\n",
        "#vectorizer=CountVectorizer(analyzer=\"word\", max_features=5000, ngram_range=(2, 2))\n",
        "#vectorizer=CountVectorizer(analyzer=\"word\", max_features=500, ngram_range=(2, 2))\n",
        "#vectorizer=CountVectorizer(analyzer=\"word\", max_features=200, ngram_range=(2, 2))\n",
        "\n",
        "train_features=vectorizer.fit_transform(train_text)"
      ]
    },
    {
      "cell_type": "code",
      "execution_count": null,
      "metadata": {
        "colab": {
          "base_uri": "https://localhost:8080/"
        },
        "id": "y9gOFEimPr8b",
        "outputId": "fe2726b1-0e57-41c4-90e6-340242d07f86"
      },
      "outputs": [
        {
          "output_type": "execute_result",
          "data": {
            "text/plain": [
              "<235943x500 sparse matrix of type '<class 'numpy.int64'>'\n",
              "\twith 7557257 stored elements in Compressed Sparse Row format>"
            ]
          },
          "metadata": {},
          "execution_count": 30
        }
      ],
      "source": [
        "# Just for displaying the feature(matrix) dimension\n",
        "train_features"
      ]
    },
    {
      "cell_type": "code",
      "source": [
        "# Just for showing the result of the vectorising\n",
        "counts = pd.DataFrame(train_features.sum(axis=0), columns=vectorizer.get_feature_names())\n",
        "counts.T.sort_values(by=0, ascending=False)"
      ],
      "metadata": {
        "colab": {
          "base_uri": "https://localhost:8080/",
          "height": 480
        },
        "id": "TfFV3mL6Dc9g",
        "outputId": "ad056993-081e-468b-af1c-94c05803ba89"
      },
      "execution_count": null,
      "outputs": [
        {
          "output_type": "stream",
          "name": "stderr",
          "text": [
            "/usr/local/lib/python3.7/dist-packages/sklearn/utils/deprecation.py:87: FutureWarning: Function get_feature_names is deprecated; get_feature_names is deprecated in 1.0 and will be removed in 1.2. Please use get_feature_names_out instead.\n",
            "  warnings.warn(msg, category=FutureWarning)\n"
          ]
        },
        {
          "output_type": "execute_result",
          "data": {
            "text/plain": [
              "                                          0\n",
              "error                                382318\n",
              "type                                 347542\n",
              "audit                                310388\n",
              "msg                                  250773\n",
              "elasticsearch                        224314\n",
              "...                                     ...\n",
              "description                             291\n",
              "oss_telemetry                           290\n",
              "no_shard_available_action_exception     285\n",
              "json                                    285\n",
              "local                                   282\n",
              "\n",
              "[500 rows x 1 columns]"
            ],
            "text/html": [
              "\n",
              "  <div id=\"df-a61c340d-179c-4e72-8c51-8868e1f6d8c5\">\n",
              "    <div class=\"colab-df-container\">\n",
              "      <div>\n",
              "<style scoped>\n",
              "    .dataframe tbody tr th:only-of-type {\n",
              "        vertical-align: middle;\n",
              "    }\n",
              "\n",
              "    .dataframe tbody tr th {\n",
              "        vertical-align: top;\n",
              "    }\n",
              "\n",
              "    .dataframe thead th {\n",
              "        text-align: right;\n",
              "    }\n",
              "</style>\n",
              "<table border=\"1\" class=\"dataframe\">\n",
              "  <thead>\n",
              "    <tr style=\"text-align: right;\">\n",
              "      <th></th>\n",
              "      <th>0</th>\n",
              "    </tr>\n",
              "  </thead>\n",
              "  <tbody>\n",
              "    <tr>\n",
              "      <th>error</th>\n",
              "      <td>382318</td>\n",
              "    </tr>\n",
              "    <tr>\n",
              "      <th>type</th>\n",
              "      <td>347542</td>\n",
              "    </tr>\n",
              "    <tr>\n",
              "      <th>audit</th>\n",
              "      <td>310388</td>\n",
              "    </tr>\n",
              "    <tr>\n",
              "      <th>msg</th>\n",
              "      <td>250773</td>\n",
              "    </tr>\n",
              "    <tr>\n",
              "      <th>elasticsearch</th>\n",
              "      <td>224314</td>\n",
              "    </tr>\n",
              "    <tr>\n",
              "      <th>...</th>\n",
              "      <td>...</td>\n",
              "    </tr>\n",
              "    <tr>\n",
              "      <th>description</th>\n",
              "      <td>291</td>\n",
              "    </tr>\n",
              "    <tr>\n",
              "      <th>oss_telemetry</th>\n",
              "      <td>290</td>\n",
              "    </tr>\n",
              "    <tr>\n",
              "      <th>no_shard_available_action_exception</th>\n",
              "      <td>285</td>\n",
              "    </tr>\n",
              "    <tr>\n",
              "      <th>json</th>\n",
              "      <td>285</td>\n",
              "    </tr>\n",
              "    <tr>\n",
              "      <th>local</th>\n",
              "      <td>282</td>\n",
              "    </tr>\n",
              "  </tbody>\n",
              "</table>\n",
              "<p>500 rows × 1 columns</p>\n",
              "</div>\n",
              "      <button class=\"colab-df-convert\" onclick=\"convertToInteractive('df-a61c340d-179c-4e72-8c51-8868e1f6d8c5')\"\n",
              "              title=\"Convert this dataframe to an interactive table.\"\n",
              "              style=\"display:none;\">\n",
              "        \n",
              "  <svg xmlns=\"http://www.w3.org/2000/svg\" height=\"24px\"viewBox=\"0 0 24 24\"\n",
              "       width=\"24px\">\n",
              "    <path d=\"M0 0h24v24H0V0z\" fill=\"none\"/>\n",
              "    <path d=\"M18.56 5.44l.94 2.06.94-2.06 2.06-.94-2.06-.94-.94-2.06-.94 2.06-2.06.94zm-11 1L8.5 8.5l.94-2.06 2.06-.94-2.06-.94L8.5 2.5l-.94 2.06-2.06.94zm10 10l.94 2.06.94-2.06 2.06-.94-2.06-.94-.94-2.06-.94 2.06-2.06.94z\"/><path d=\"M17.41 7.96l-1.37-1.37c-.4-.4-.92-.59-1.43-.59-.52 0-1.04.2-1.43.59L10.3 9.45l-7.72 7.72c-.78.78-.78 2.05 0 2.83L4 21.41c.39.39.9.59 1.41.59.51 0 1.02-.2 1.41-.59l7.78-7.78 2.81-2.81c.8-.78.8-2.07 0-2.86zM5.41 20L4 18.59l7.72-7.72 1.47 1.35L5.41 20z\"/>\n",
              "  </svg>\n",
              "      </button>\n",
              "      \n",
              "  <style>\n",
              "    .colab-df-container {\n",
              "      display:flex;\n",
              "      flex-wrap:wrap;\n",
              "      gap: 12px;\n",
              "    }\n",
              "\n",
              "    .colab-df-convert {\n",
              "      background-color: #E8F0FE;\n",
              "      border: none;\n",
              "      border-radius: 50%;\n",
              "      cursor: pointer;\n",
              "      display: none;\n",
              "      fill: #1967D2;\n",
              "      height: 32px;\n",
              "      padding: 0 0 0 0;\n",
              "      width: 32px;\n",
              "    }\n",
              "\n",
              "    .colab-df-convert:hover {\n",
              "      background-color: #E2EBFA;\n",
              "      box-shadow: 0px 1px 2px rgba(60, 64, 67, 0.3), 0px 1px 3px 1px rgba(60, 64, 67, 0.15);\n",
              "      fill: #174EA6;\n",
              "    }\n",
              "\n",
              "    [theme=dark] .colab-df-convert {\n",
              "      background-color: #3B4455;\n",
              "      fill: #D2E3FC;\n",
              "    }\n",
              "\n",
              "    [theme=dark] .colab-df-convert:hover {\n",
              "      background-color: #434B5C;\n",
              "      box-shadow: 0px 1px 3px 1px rgba(0, 0, 0, 0.15);\n",
              "      filter: drop-shadow(0px 1px 2px rgba(0, 0, 0, 0.3));\n",
              "      fill: #FFFFFF;\n",
              "    }\n",
              "  </style>\n",
              "\n",
              "      <script>\n",
              "        const buttonEl =\n",
              "          document.querySelector('#df-a61c340d-179c-4e72-8c51-8868e1f6d8c5 button.colab-df-convert');\n",
              "        buttonEl.style.display =\n",
              "          google.colab.kernel.accessAllowed ? 'block' : 'none';\n",
              "\n",
              "        async function convertToInteractive(key) {\n",
              "          const element = document.querySelector('#df-a61c340d-179c-4e72-8c51-8868e1f6d8c5');\n",
              "          const dataTable =\n",
              "            await google.colab.kernel.invokeFunction('convertToInteractive',\n",
              "                                                     [key], {});\n",
              "          if (!dataTable) return;\n",
              "\n",
              "          const docLinkHtml = 'Like what you see? Visit the ' +\n",
              "            '<a target=\"_blank\" href=https://colab.research.google.com/notebooks/data_table.ipynb>data table notebook</a>'\n",
              "            + ' to learn more about interactive tables.';\n",
              "          element.innerHTML = '';\n",
              "          dataTable['output_type'] = 'display_data';\n",
              "          await google.colab.output.renderOutput(dataTable, element);\n",
              "          const docLink = document.createElement('div');\n",
              "          docLink.innerHTML = docLinkHtml;\n",
              "          element.appendChild(docLink);\n",
              "        }\n",
              "      </script>\n",
              "    </div>\n",
              "  </div>\n",
              "  "
            ]
          },
          "metadata": {},
          "execution_count": 31
        }
      ]
    },
    {
      "cell_type": "markdown",
      "metadata": {
        "id": "6rvz50wYPr8b"
      },
      "source": [
        "**Model training**"
      ]
    },
    {
      "cell_type": "code",
      "execution_count": null,
      "metadata": {
        "id": "JE5aZ87_Pr8b"
      },
      "outputs": [],
      "source": [
        "train_x = train_features\n",
        "train_y = train_level"
      ]
    },
    {
      "cell_type": "code",
      "execution_count": null,
      "metadata": {
        "colab": {
          "base_uri": "https://localhost:8080/"
        },
        "id": "6_5r43vQPr8b",
        "outputId": "9e0547de-89b5-43fd-f673-703226bbac25"
      },
      "outputs": [
        {
          "output_type": "execute_result",
          "data": {
            "text/plain": [
              "RandomForestClassifier()"
            ]
          },
          "metadata": {},
          "execution_count": 72
        }
      ],
      "source": [
        "from sklearn.ensemble import RandomForestClassifier\n",
        "forest=RandomForestClassifier(n_estimators=100)\n",
        "forest.fit(train_x, train_y)"
      ]
    },
    {
      "cell_type": "markdown",
      "source": [
        "**Model test**"
      ],
      "metadata": {
        "id": "ty2E3SKJnhhf"
      }
    },
    {
      "cell_type": "code",
      "source": [
        "test_features=vectorizer.fit_transform(test_text)"
      ],
      "metadata": {
        "id": "E-V_9rYYpZYk"
      },
      "execution_count": null,
      "outputs": []
    },
    {
      "cell_type": "code",
      "source": [
        "# Just for showing the result of the vectorising\n",
        "counts = pd.DataFrame(test_features.sum(axis=0), columns=vectorizer.get_feature_names())\n",
        "counts.T.sort_values(by=0, ascending=False)"
      ],
      "metadata": {
        "colab": {
          "base_uri": "https://localhost:8080/",
          "height": 423
        },
        "id": "ifa5LVFIpguX",
        "outputId": "23e33fa4-78df-4a0c-f0e2-8870593be8d1"
      },
      "execution_count": null,
      "outputs": [
        {
          "output_type": "execute_result",
          "data": {
            "text/plain": [
              "                    0\n",
              "error          383506\n",
              "type           348522\n",
              "audit          311097\n",
              "msg            251389\n",
              "elasticsearch  225057\n",
              "...               ...\n",
              "hits              292\n",
              "limit             291\n",
              "home              290\n",
              "source            286\n",
              "description       285\n",
              "\n",
              "[500 rows x 1 columns]"
            ],
            "text/html": [
              "\n",
              "  <div id=\"df-921a2e63-2dcc-4a9e-b745-976a6bee24b4\">\n",
              "    <div class=\"colab-df-container\">\n",
              "      <div>\n",
              "<style scoped>\n",
              "    .dataframe tbody tr th:only-of-type {\n",
              "        vertical-align: middle;\n",
              "    }\n",
              "\n",
              "    .dataframe tbody tr th {\n",
              "        vertical-align: top;\n",
              "    }\n",
              "\n",
              "    .dataframe thead th {\n",
              "        text-align: right;\n",
              "    }\n",
              "</style>\n",
              "<table border=\"1\" class=\"dataframe\">\n",
              "  <thead>\n",
              "    <tr style=\"text-align: right;\">\n",
              "      <th></th>\n",
              "      <th>0</th>\n",
              "    </tr>\n",
              "  </thead>\n",
              "  <tbody>\n",
              "    <tr>\n",
              "      <th>error</th>\n",
              "      <td>383506</td>\n",
              "    </tr>\n",
              "    <tr>\n",
              "      <th>type</th>\n",
              "      <td>348522</td>\n",
              "    </tr>\n",
              "    <tr>\n",
              "      <th>audit</th>\n",
              "      <td>311097</td>\n",
              "    </tr>\n",
              "    <tr>\n",
              "      <th>msg</th>\n",
              "      <td>251389</td>\n",
              "    </tr>\n",
              "    <tr>\n",
              "      <th>elasticsearch</th>\n",
              "      <td>225057</td>\n",
              "    </tr>\n",
              "    <tr>\n",
              "      <th>...</th>\n",
              "      <td>...</td>\n",
              "    </tr>\n",
              "    <tr>\n",
              "      <th>hits</th>\n",
              "      <td>292</td>\n",
              "    </tr>\n",
              "    <tr>\n",
              "      <th>limit</th>\n",
              "      <td>291</td>\n",
              "    </tr>\n",
              "    <tr>\n",
              "      <th>home</th>\n",
              "      <td>290</td>\n",
              "    </tr>\n",
              "    <tr>\n",
              "      <th>source</th>\n",
              "      <td>286</td>\n",
              "    </tr>\n",
              "    <tr>\n",
              "      <th>description</th>\n",
              "      <td>285</td>\n",
              "    </tr>\n",
              "  </tbody>\n",
              "</table>\n",
              "<p>500 rows × 1 columns</p>\n",
              "</div>\n",
              "      <button class=\"colab-df-convert\" onclick=\"convertToInteractive('df-921a2e63-2dcc-4a9e-b745-976a6bee24b4')\"\n",
              "              title=\"Convert this dataframe to an interactive table.\"\n",
              "              style=\"display:none;\">\n",
              "        \n",
              "  <svg xmlns=\"http://www.w3.org/2000/svg\" height=\"24px\"viewBox=\"0 0 24 24\"\n",
              "       width=\"24px\">\n",
              "    <path d=\"M0 0h24v24H0V0z\" fill=\"none\"/>\n",
              "    <path d=\"M18.56 5.44l.94 2.06.94-2.06 2.06-.94-2.06-.94-.94-2.06-.94 2.06-2.06.94zm-11 1L8.5 8.5l.94-2.06 2.06-.94-2.06-.94L8.5 2.5l-.94 2.06-2.06.94zm10 10l.94 2.06.94-2.06 2.06-.94-2.06-.94-.94-2.06-.94 2.06-2.06.94z\"/><path d=\"M17.41 7.96l-1.37-1.37c-.4-.4-.92-.59-1.43-.59-.52 0-1.04.2-1.43.59L10.3 9.45l-7.72 7.72c-.78.78-.78 2.05 0 2.83L4 21.41c.39.39.9.59 1.41.59.51 0 1.02-.2 1.41-.59l7.78-7.78 2.81-2.81c.8-.78.8-2.07 0-2.86zM5.41 20L4 18.59l7.72-7.72 1.47 1.35L5.41 20z\"/>\n",
              "  </svg>\n",
              "      </button>\n",
              "      \n",
              "  <style>\n",
              "    .colab-df-container {\n",
              "      display:flex;\n",
              "      flex-wrap:wrap;\n",
              "      gap: 12px;\n",
              "    }\n",
              "\n",
              "    .colab-df-convert {\n",
              "      background-color: #E8F0FE;\n",
              "      border: none;\n",
              "      border-radius: 50%;\n",
              "      cursor: pointer;\n",
              "      display: none;\n",
              "      fill: #1967D2;\n",
              "      height: 32px;\n",
              "      padding: 0 0 0 0;\n",
              "      width: 32px;\n",
              "    }\n",
              "\n",
              "    .colab-df-convert:hover {\n",
              "      background-color: #E2EBFA;\n",
              "      box-shadow: 0px 1px 2px rgba(60, 64, 67, 0.3), 0px 1px 3px 1px rgba(60, 64, 67, 0.15);\n",
              "      fill: #174EA6;\n",
              "    }\n",
              "\n",
              "    [theme=dark] .colab-df-convert {\n",
              "      background-color: #3B4455;\n",
              "      fill: #D2E3FC;\n",
              "    }\n",
              "\n",
              "    [theme=dark] .colab-df-convert:hover {\n",
              "      background-color: #434B5C;\n",
              "      box-shadow: 0px 1px 3px 1px rgba(0, 0, 0, 0.15);\n",
              "      filter: drop-shadow(0px 1px 2px rgba(0, 0, 0, 0.3));\n",
              "      fill: #FFFFFF;\n",
              "    }\n",
              "  </style>\n",
              "\n",
              "      <script>\n",
              "        const buttonEl =\n",
              "          document.querySelector('#df-921a2e63-2dcc-4a9e-b745-976a6bee24b4 button.colab-df-convert');\n",
              "        buttonEl.style.display =\n",
              "          google.colab.kernel.accessAllowed ? 'block' : 'none';\n",
              "\n",
              "        async function convertToInteractive(key) {\n",
              "          const element = document.querySelector('#df-921a2e63-2dcc-4a9e-b745-976a6bee24b4');\n",
              "          const dataTable =\n",
              "            await google.colab.kernel.invokeFunction('convertToInteractive',\n",
              "                                                     [key], {});\n",
              "          if (!dataTable) return;\n",
              "\n",
              "          const docLinkHtml = 'Like what you see? Visit the ' +\n",
              "            '<a target=\"_blank\" href=https://colab.research.google.com/notebooks/data_table.ipynb>data table notebook</a>'\n",
              "            + ' to learn more about interactive tables.';\n",
              "          element.innerHTML = '';\n",
              "          dataTable['output_type'] = 'display_data';\n",
              "          await google.colab.output.renderOutput(dataTable, element);\n",
              "          const docLink = document.createElement('div');\n",
              "          docLink.innerHTML = docLinkHtml;\n",
              "          element.appendChild(docLink);\n",
              "        }\n",
              "      </script>\n",
              "    </div>\n",
              "  </div>\n",
              "  "
            ]
          },
          "metadata": {},
          "execution_count": 36
        }
      ]
    },
    {
      "cell_type": "code",
      "source": [
        "eval_x = test_features\n",
        "eval_y = test_level\n",
        "\n",
        "forest.score(eval_x, eval_y)"
      ],
      "metadata": {
        "colab": {
          "base_uri": "https://localhost:8080/"
        },
        "id": "KNgTY9TTnO1h",
        "outputId": "0db76bc1-87bd-4628-9abf-1e4b7cfef068"
      },
      "execution_count": null,
      "outputs": [
        {
          "output_type": "execute_result",
          "data": {
            "text/plain": [
              "0.9891966348089597"
            ]
          },
          "metadata": {},
          "execution_count": 74
        }
      ]
    },
    {
      "cell_type": "code",
      "source": [
        "# Analyze the result with a confusion matrix\n",
        "pred=forest.predict(eval_x)\n",
        "crosstab = pd.crosstab(eval_y, pred, rownames=['real'], colnames=['pred'])\n",
        "crosstab"
      ],
      "metadata": {
        "colab": {
          "base_uri": "https://localhost:8080/",
          "height": 300
        },
        "id": "boU_O-xmq3jz",
        "outputId": "8fcedc8f-9f64-4e9e-9d0a-e638ceb04dac"
      },
      "execution_count": null,
      "outputs": [
        {
          "output_type": "execute_result",
          "data": {
            "text/plain": [
              "pred       0      1    3  4    5  6\n",
              "real                               \n",
              "0     166139    310  278  1    2  0\n",
              "1        153  65527  356  0    5  0\n",
              "2          0      1    5  0    0  0\n",
              "3       1105      2  880  0   82  0\n",
              "4          0      0    0  5    0  0\n",
              "5         21     12  215  0  842  0\n",
              "6          0      1    0  0    0  3"
            ],
            "text/html": [
              "\n",
              "  <div id=\"df-84351c75-584c-48f1-8803-3b6c12458c71\">\n",
              "    <div class=\"colab-df-container\">\n",
              "      <div>\n",
              "<style scoped>\n",
              "    .dataframe tbody tr th:only-of-type {\n",
              "        vertical-align: middle;\n",
              "    }\n",
              "\n",
              "    .dataframe tbody tr th {\n",
              "        vertical-align: top;\n",
              "    }\n",
              "\n",
              "    .dataframe thead th {\n",
              "        text-align: right;\n",
              "    }\n",
              "</style>\n",
              "<table border=\"1\" class=\"dataframe\">\n",
              "  <thead>\n",
              "    <tr style=\"text-align: right;\">\n",
              "      <th>pred</th>\n",
              "      <th>0</th>\n",
              "      <th>1</th>\n",
              "      <th>3</th>\n",
              "      <th>4</th>\n",
              "      <th>5</th>\n",
              "      <th>6</th>\n",
              "    </tr>\n",
              "    <tr>\n",
              "      <th>real</th>\n",
              "      <th></th>\n",
              "      <th></th>\n",
              "      <th></th>\n",
              "      <th></th>\n",
              "      <th></th>\n",
              "      <th></th>\n",
              "    </tr>\n",
              "  </thead>\n",
              "  <tbody>\n",
              "    <tr>\n",
              "      <th>0</th>\n",
              "      <td>166139</td>\n",
              "      <td>310</td>\n",
              "      <td>278</td>\n",
              "      <td>1</td>\n",
              "      <td>2</td>\n",
              "      <td>0</td>\n",
              "    </tr>\n",
              "    <tr>\n",
              "      <th>1</th>\n",
              "      <td>153</td>\n",
              "      <td>65527</td>\n",
              "      <td>356</td>\n",
              "      <td>0</td>\n",
              "      <td>5</td>\n",
              "      <td>0</td>\n",
              "    </tr>\n",
              "    <tr>\n",
              "      <th>2</th>\n",
              "      <td>0</td>\n",
              "      <td>1</td>\n",
              "      <td>5</td>\n",
              "      <td>0</td>\n",
              "      <td>0</td>\n",
              "      <td>0</td>\n",
              "    </tr>\n",
              "    <tr>\n",
              "      <th>3</th>\n",
              "      <td>1105</td>\n",
              "      <td>2</td>\n",
              "      <td>880</td>\n",
              "      <td>0</td>\n",
              "      <td>82</td>\n",
              "      <td>0</td>\n",
              "    </tr>\n",
              "    <tr>\n",
              "      <th>4</th>\n",
              "      <td>0</td>\n",
              "      <td>0</td>\n",
              "      <td>0</td>\n",
              "      <td>5</td>\n",
              "      <td>0</td>\n",
              "      <td>0</td>\n",
              "    </tr>\n",
              "    <tr>\n",
              "      <th>5</th>\n",
              "      <td>21</td>\n",
              "      <td>12</td>\n",
              "      <td>215</td>\n",
              "      <td>0</td>\n",
              "      <td>842</td>\n",
              "      <td>0</td>\n",
              "    </tr>\n",
              "    <tr>\n",
              "      <th>6</th>\n",
              "      <td>0</td>\n",
              "      <td>1</td>\n",
              "      <td>0</td>\n",
              "      <td>0</td>\n",
              "      <td>0</td>\n",
              "      <td>3</td>\n",
              "    </tr>\n",
              "  </tbody>\n",
              "</table>\n",
              "</div>\n",
              "      <button class=\"colab-df-convert\" onclick=\"convertToInteractive('df-84351c75-584c-48f1-8803-3b6c12458c71')\"\n",
              "              title=\"Convert this dataframe to an interactive table.\"\n",
              "              style=\"display:none;\">\n",
              "        \n",
              "  <svg xmlns=\"http://www.w3.org/2000/svg\" height=\"24px\"viewBox=\"0 0 24 24\"\n",
              "       width=\"24px\">\n",
              "    <path d=\"M0 0h24v24H0V0z\" fill=\"none\"/>\n",
              "    <path d=\"M18.56 5.44l.94 2.06.94-2.06 2.06-.94-2.06-.94-.94-2.06-.94 2.06-2.06.94zm-11 1L8.5 8.5l.94-2.06 2.06-.94-2.06-.94L8.5 2.5l-.94 2.06-2.06.94zm10 10l.94 2.06.94-2.06 2.06-.94-2.06-.94-.94-2.06-.94 2.06-2.06.94z\"/><path d=\"M17.41 7.96l-1.37-1.37c-.4-.4-.92-.59-1.43-.59-.52 0-1.04.2-1.43.59L10.3 9.45l-7.72 7.72c-.78.78-.78 2.05 0 2.83L4 21.41c.39.39.9.59 1.41.59.51 0 1.02-.2 1.41-.59l7.78-7.78 2.81-2.81c.8-.78.8-2.07 0-2.86zM5.41 20L4 18.59l7.72-7.72 1.47 1.35L5.41 20z\"/>\n",
              "  </svg>\n",
              "      </button>\n",
              "      \n",
              "  <style>\n",
              "    .colab-df-container {\n",
              "      display:flex;\n",
              "      flex-wrap:wrap;\n",
              "      gap: 12px;\n",
              "    }\n",
              "\n",
              "    .colab-df-convert {\n",
              "      background-color: #E8F0FE;\n",
              "      border: none;\n",
              "      border-radius: 50%;\n",
              "      cursor: pointer;\n",
              "      display: none;\n",
              "      fill: #1967D2;\n",
              "      height: 32px;\n",
              "      padding: 0 0 0 0;\n",
              "      width: 32px;\n",
              "    }\n",
              "\n",
              "    .colab-df-convert:hover {\n",
              "      background-color: #E2EBFA;\n",
              "      box-shadow: 0px 1px 2px rgba(60, 64, 67, 0.3), 0px 1px 3px 1px rgba(60, 64, 67, 0.15);\n",
              "      fill: #174EA6;\n",
              "    }\n",
              "\n",
              "    [theme=dark] .colab-df-convert {\n",
              "      background-color: #3B4455;\n",
              "      fill: #D2E3FC;\n",
              "    }\n",
              "\n",
              "    [theme=dark] .colab-df-convert:hover {\n",
              "      background-color: #434B5C;\n",
              "      box-shadow: 0px 1px 3px 1px rgba(0, 0, 0, 0.15);\n",
              "      filter: drop-shadow(0px 1px 2px rgba(0, 0, 0, 0.3));\n",
              "      fill: #FFFFFF;\n",
              "    }\n",
              "  </style>\n",
              "\n",
              "      <script>\n",
              "        const buttonEl =\n",
              "          document.querySelector('#df-84351c75-584c-48f1-8803-3b6c12458c71 button.colab-df-convert');\n",
              "        buttonEl.style.display =\n",
              "          google.colab.kernel.accessAllowed ? 'block' : 'none';\n",
              "\n",
              "        async function convertToInteractive(key) {\n",
              "          const element = document.querySelector('#df-84351c75-584c-48f1-8803-3b6c12458c71');\n",
              "          const dataTable =\n",
              "            await google.colab.kernel.invokeFunction('convertToInteractive',\n",
              "                                                     [key], {});\n",
              "          if (!dataTable) return;\n",
              "\n",
              "          const docLinkHtml = 'Like what you see? Visit the ' +\n",
              "            '<a target=\"_blank\" href=https://colab.research.google.com/notebooks/data_table.ipynb>data table notebook</a>'\n",
              "            + ' to learn more about interactive tables.';\n",
              "          element.innerHTML = '';\n",
              "          dataTable['output_type'] = 'display_data';\n",
              "          await google.colab.output.renderOutput(dataTable, element);\n",
              "          const docLink = document.createElement('div');\n",
              "          docLink.innerHTML = docLinkHtml;\n",
              "          element.appendChild(docLink);\n",
              "        }\n",
              "      </script>\n",
              "    </div>\n",
              "  </div>\n",
              "  "
            ]
          },
          "metadata": {},
          "execution_count": 75
        }
      ]
    }
  ],
  "metadata": {
    "kernelspec": {
      "display_name": "Python 3",
      "name": "python3"
    },
    "language_info": {
      "name": "python"
    },
    "colab": {
      "name": "Multi-source Multiclass.ipynb",
      "provenance": [],
      "collapsed_sections": []
    },
    "gpuClass": "standard"
  },
  "nbformat": 4,
  "nbformat_minor": 0
}